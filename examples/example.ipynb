{
  "cells": [
    {
      "cell_type": "code",
      "execution_count": null,
      "metadata": {
        "id": "3lOz3ZJS_kHP"
      },
      "outputs": [],
      "source": [
        "# Copyright 2023 DeepMind Technologies Limited.\n",
        "#\n",
        "# Licensed under the Apache License, Version 2.0 (the \"License\");\n",
        "# you may not use this file except in compliance with the License.\n",
        "# You may obtain a copy of the License at\n",
        "#\n",
        "#     http://www.apache.org/licenses/LICENSE-2.0\n",
        "#\n",
        "# Unless required by applicable law or agreed to in writing, software\n",
        "# distributed under the License is distributed on an \"AS IS\" BASIS,\n",
        "# WITHOUT WARRANTIES OR CONDITIONS OF ANY KIND, either express or implied.\n",
        "# See the License for the specific language governing permissions and\n",
        "# limitations under the License."
      ]
    },
    {
      "cell_type": "markdown",
      "metadata": {
        "id": "pAmOe7PPSPeO"
      },
      "source": [
        "This notebook trains a noisy OR Bayesian network with max-product on the 2D blind deconvolution experiment, and reproduces some results presented in Section 6.6 of the [paper](https://arxiv.org/pdf/2302.00099.pdf)"
      ]
    },
    {
      "cell_type": "code",
      "execution_count": null,
      "metadata": {
        "id": "YCdul62v_m0X"
      },
      "outputs": [],
      "source": [
        "# # Uncomment this block if running on colab.research.google.com\n",
        "# !pip install git+https://github.com/deepmind/max_product_noisy_or.git\n",
        "# !wget https://raw.githubusercontent.com/deepmind/PGMax/main/examples/example_data/conv_problem.npz\n",
        "# !mkdir data\n",
        "# !mv conv_problem.npz  data/"
      ]
    },
    {
      "cell_type": "code",
      "execution_count": null,
      "metadata": {
        "id": "v4_U9U_OQsWZ"
      },
      "outputs": [],
      "source": [
        "import numpy as np\n",
        "import matplotlib.pyplot as plt\n",
        "\n",
        "# Load max_product_noisy_or\n",
        "from mp_noisy_or import config, noisy_or_bp, results_utils"
      ]
    },
    {
      "cell_type": "markdown",
      "metadata": {
        "id": "fdNbdgUQofSh"
      },
      "source": [
        "### Load data"
      ]
    },
    {
      "cell_type": "code",
      "execution_count": null,
      "metadata": {
        "id": "pDbvxm9pQrWI"
      },
      "outputs": [],
      "source": [
        "# Load data\n",
        "folder_name = \"data/\"\n",
        "data = np.load(open(folder_name + \"conv_problem.npz\", 'rb'), allow_pickle=True)\n",
        "W_gt = data[\"W\"][0]\n",
        "X_gt = data[\"X\"]\n",
        "X_gt = X_gt[:20]\n",
        "\n",
        "results_utils.plot_images(X_gt[:8, 0], nr=2)\n",
        "_ = plt.title(\"Convolved images\", fontsize=20)"
      ]
    },
    {
      "cell_type": "code",
      "execution_count": null,
      "metadata": {
        "id": "u39pw-i7SGCx"
      },
      "outputs": [],
      "source": [
        "results_utils.plot_images(W_gt, nr=1)\n",
        "_ = plt.title(\"Ground truth features\", fontsize=22)"
      ]
    },
    {
      "cell_type": "markdown",
      "metadata": {
        "id": "cRqN3kLKoggz"
      },
      "source": [
        "### Train noisy-OR Bayesian network with BP"
      ]
    },
    {
      "cell_type": "code",
      "execution_count": null,
      "metadata": {
        "id": "1K3vAEFvGf6P"
      },
      "outputs": [],
      "source": [
        "this_config = config.get_config_BP_2Ddeconv()\n",
        "\n",
        "# Here, we modify the default parameters to accelerate convergence\n",
        "this_config.learning.num_iters = 600\n",
        "this_config.learning.proba_init = 0.9\n",
        "\n",
        "# Training should take 3min on a GPU\n",
        "NoisyOR = noisy_or_bp.NoisyOR_BP(this_config)\n",
        "results_BP = NoisyOR.train()"
      ]
    },
    {
      "cell_type": "code",
      "execution_count": null,
      "metadata": {
        "id": "EX0YEokcojkU"
      },
      "outputs": [],
      "source": [
        "# Visualize training loss\n",
        "plt.figure(figsize=(10, 5))\n",
        "plt.plot(results_BP[\"all_train_avg_elbos\"])\n",
        "plt.xlabel(\"Training iteration\", fontsize=16)\n",
        "_ = plt.title(\"Training Elbo\", fontsize=18)"
      ]
    },
    {
      "cell_type": "markdown",
      "metadata": {
        "id": "Af0aNO9xyT27"
      },
      "source": [
        "### Visualize the learned potentials"
      ]
    },
    {
      "cell_type": "code",
      "execution_count": null,
      "metadata": {
        "id": "H-tlba60yTRM"
      },
      "outputs": [],
      "source": [
        "LP_THRE = np.log(2)\n",
        "log_potentials = np.array(results_BP[\"log_potentials\"])[:5, :6, :6]\n",
        "W_learned = (log_potentials \u003e LP_THRE).astype(float)\n",
        "\n",
        "results_utils.plot_images(log_potentials, nr=1, images_min=0, images_max=-np.log(0.01))\n",
        "_ = plt.title(\"Parameters learned with BP\", fontsize=22)\n",
        "\n",
        "results_utils.plot_images(W_learned, nr=1)\n",
        "_ = plt.title(\"Binary features learned with BP\", fontsize=22)"
      ]
    },
    {
      "cell_type": "markdown",
      "metadata": {
        "id": "rCyM6tRZooqi"
      },
      "source": [
        "### Compute metrics"
      ]
    },
    {
      "cell_type": "code",
      "execution_count": null,
      "metadata": {
        "id": "nIAeiY80ojmp"
      },
      "outputs": [],
      "source": [
        "print(f\"After {this_config.learning.num_iters} training iterations\")\n",
        "\n",
        "# Test Elbo\n",
        "test_avg_elbo_mode = results_BP['all_test_avg_elbos_mode'][-1]\n",
        "print(f\"Test elbo : {round(test_avg_elbo_mode, 3)}\")\n",
        "  \n",
        "# Test reconstruction error\n",
        "_, test_rec_X, test_rec_ratio = results_utils.BD_reconstruction(\n",
        "    NoisyOR.Xv_gt_test, results_BP[\"test_X_samples\"], W_learned\n",
        ")\n",
        "print(f\"Test rec. error: {round(100 *test_rec_ratio, 3)}%\")\n",
        "\n",
        "# IOU matching\n",
        "iou_matching = results_utils.features_iou(W_gt, W_learned)\n",
        "print(f\"IOU matching : {round(iou_matching, 3)}\")"
      ]
    },
    {
      "cell_type": "code",
      "execution_count": null,
      "metadata": {
        "id": "yqxOnphko8DU"
      },
      "outputs": [],
      "source": [
        "# Plot the reconstructed images\n",
        "img = results_utils.plot_images(test_rec_X, nr=5)\n",
        "_ = plt.title(\"Test images reconstructed with PMP\", fontsize=22)"
      ]
    },
    {
      "cell_type": "code",
      "execution_count": null,
      "metadata": {
        "id": "N4yEGfZjojpb"
      },
      "outputs": [],
      "source": [
        "img = results_utils.plot_images(NoisyOR.Xv_gt_test, nr=5)\n",
        "_ = plt.title(\"Ground truth test images\", fontsize=22)"
      ]
    }
  ],
  "metadata": {},
  "nbformat": 4,
  "nbformat_minor": 0
}
